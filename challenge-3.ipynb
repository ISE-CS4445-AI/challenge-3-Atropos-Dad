{
  "cells": [
    {
      "cell_type": "markdown",
      "metadata": {
        "id": "OTTUuzCyzRqG"
      },
      "source": [
        "# Challenge 3 - Advanced Classification and Evaluation Metrics\n",
        "\n",
        "Welcome to challenge #3! You know the drill by now i.e., the MCQ section and the code challenge section.\n",
        "\n",
        "Good luck! :)"
      ]
    },
    {
      "cell_type": "markdown",
      "metadata": {
        "id": "ROAjx16L5x5Y"
      },
      "source": [
        "## Section 1: Multiple Choice Questions"
      ]
    },
    {
      "cell_type": "markdown",
      "metadata": {
        "id": "IRALy2NEz0AS"
      },
      "source": [
        "### Q1. Which statement is **true** regarding **precision** in a multi-class classification context? (1 point)\n",
        "\n",
        "**Options**:  \n",
        "1. Precision is the fraction of actual positives that were predicted positive.  \n",
        "2. Precision is the fraction of predicted positives that are actual positives.  \n",
        "3. Precision is the fraction of negative predictions that are correct."
      ]
    },
    {
      "cell_type": "code",
      "execution_count": 6,
      "metadata": {
        "colab": {
          "base_uri": "https://localhost:8080/"
        },
        "id": "HFtBxSL40CG9",
        "outputId": "49e0c805-cd5f-4d4b-be20-2cf551c8bc86"
      },
      "outputs": [
        {
          "name": "stdout",
          "output_type": "stream",
          "text": [
            "Q1: Which statement is **true** regarding **precision** in a multi-class classification context? (1 point)\n",
            "Answer: Precision is the fraction of predicted positives that are actual positives\n"
          ]
        }
      ],
      "source": [
        "def answer_q1():\n",
        "    \"\"\"\n",
        "    Q1: Which statement is **true** regarding **precision** in a multi-class classification context? (1 point)\n",
        "    \"\"\"\n",
        "\n",
        "    options = {\n",
        "        1: \"Precision is the fraction of actual positives that were predicted positive\",\n",
        "        2: \"Precision is the fraction of predicted positives that are actual positives\",\n",
        "        3: \"Precision is the fraction of negative predictions that are correct\"\n",
        "    }\n",
        "\n",
        "    # TODO: return the correct option number\n",
        "    return options[2]\n",
        "\n",
        "print(f'Q1: Which statement is **true** regarding **precision** in a multi-class classification context? (1 point)\\nAnswer: {answer_q1()}')"
      ]
    },
    {
      "cell_type": "markdown",
      "metadata": {
        "id": "m9BRj9Qv0v9o"
      },
      "source": [
        "### Q2. Which statement correctly describes the confusion matrix in a multi-class setting? (1 point)\n",
        "**Options:**\n",
        "1. It’s only valid for binary classification, not used for multi-class.\n",
        "2. It’s an NxN array for N classes, comparing predicted vs. actual class labels.\n",
        "3. It only shows the total correct vs. total incorrect predictions, no class breakdown."
      ]
    },
    {
      "cell_type": "code",
      "execution_count": 7,
      "metadata": {
        "colab": {
          "base_uri": "https://localhost:8080/"
        },
        "id": "uFto7n3ny7UA",
        "outputId": "2025056d-b701-4a72-89b4-7a459c2828b6"
      },
      "outputs": [
        {
          "name": "stdout",
          "output_type": "stream",
          "text": [
            "Q2: Which statement correctly describes the confusion matrix in a multi-class setting?\n",
            "Answer: It’s an NxN array for N classes, comparing predicted vs. actual class labels\n"
          ]
        }
      ],
      "source": [
        "def answer_q2():\n",
        "    \"\"\"\n",
        "    Q2: Which statement correctly describes the confusion matrix in a multi-class setting? (1 point)\n",
        "    \"\"\"\n",
        "\n",
        "    options = {\n",
        "        1: \"It’s only valid for binary classification, not used for multi-class\",\n",
        "        2: \"It’s an NxN array for N classes, comparing predicted vs. actual class labels\",\n",
        "        3: \"It only shows the total correct vs. total incorrect predictions, no class breakdown\"\n",
        "    }\n",
        "\n",
        "    # TODO: return the correct option number\n",
        "    return options[2]\n",
        "\n",
        "print(f'Q2: Which statement correctly describes the confusion matrix in a multi-class setting?\\nAnswer: {answer_q2()}')"
      ]
    },
    {
      "cell_type": "markdown",
      "metadata": {
        "id": "QAYgSO7Z2FTd"
      },
      "source": [
        "### Q3. Which classifier typically uses bagging plus random subsets of features to reduce variance? (1 point)\n",
        "**Options:**\n",
        "1. Decision Tree\n",
        "2. Random Forest\n",
        "3. Naive Bayes"
      ]
    },
    {
      "cell_type": "code",
      "execution_count": 8,
      "metadata": {
        "colab": {
          "base_uri": "https://localhost:8080/"
        },
        "id": "c5SAsK9C2Z8R",
        "outputId": "edd20aeb-bf1e-4fcf-fd84-17c8e39a92a6"
      },
      "outputs": [
        {
          "name": "stdout",
          "output_type": "stream",
          "text": [
            "Q3: Which classifier typically uses bagging plus random subsets of features to reduce variance?\n",
            "Answer: Random Forest\n"
          ]
        }
      ],
      "source": [
        "def answer_q3():\n",
        "    \"\"\"\n",
        "    Q3: Which classifier typically uses bagging plus random subsets of features to reduce variance? (1 point)\n",
        "    \"\"\"\n",
        "\n",
        "    options = {\n",
        "        1: \"Decision Tree\",\n",
        "        2: \"Random Forest\",\n",
        "        3: \"Naive Bayes\"\n",
        "    }\n",
        "\n",
        "    return options[2]\n",
        "\n",
        "print(f'Q3: Which classifier typically uses bagging plus random subsets of features to reduce variance?\\nAnswer: {answer_q3()}')"
      ]
    },
    {
      "cell_type": "markdown",
      "metadata": {},
      "source": [
        "### Q4. If we see a high recall but low precision for a certain class, what does that usually imply? (1 point)\n",
        "**Options:**\n",
        "1. The model rarely finds actual positives for that class.\n",
        "2. The model finds most actual positives (few false negatives), but also mislabels many negatives as that class (many false positives).\n",
        "3. The model completely fails to detect that class at all."
      ]
    },
    {
      "cell_type": "code",
      "execution_count": 9,
      "metadata": {},
      "outputs": [
        {
          "name": "stdout",
          "output_type": "stream",
          "text": [
            "Q3: If we see a high recall but low precision for a certain class, what does that usually imply?\n",
            "Answer: The model finds most actual positives (few false negatives), but also mislabels many negatives as that class (many false positives)\n"
          ]
        }
      ],
      "source": [
        "def answer_q4():\n",
        "    \"\"\"\n",
        "    Q3: If we see a high recall but low precision for a certain class, what does that usually imply? (1 point)\n",
        "    \"\"\"\n",
        "\n",
        "    options = {\n",
        "        1: \"The model rarely finds actual positives for that class\",\n",
        "        2: \"The model finds most actual positives (few false negatives), but also mislabels many negatives as that class (many false positives)\",\n",
        "        3: \"The model completely fails to detect that class at all\"\n",
        "    }\n",
        "\n",
        "    # TODO: return the correct option number\n",
        "    return options[2]\n",
        "\n",
        "print(f'Q3: If we see a high recall but low precision for a certain class, what does that usually imply?\\nAnswer: {answer_q4()}')"
      ]
    },
    {
      "cell_type": "markdown",
      "metadata": {
        "id": "d2tw01le53fJ"
      },
      "source": [
        "---\n",
        "\n",
        "## Section 2: Code challenge (5 points)\n",
        "\n",
        "For this code challenge, you will work with the [UCI Car Evaluation dataset](https://www.kaggle.com/datasets/elikplim/car-evaluation-data-set). A summary of the dataset is as follows.\n",
        "\n",
        "### Features:\n",
        "- **buying**: Buying price of the car (vhigh, high, med, low)\n",
        "- **maint**: Price of the maintenance (vhigh, high, med, low)\n",
        "- **doors**: Number of doors (2, 3, 4, 5more)\n",
        "- **persons**: Capacity in terms of persons to carry (2, 4, more)\n",
        "- **lug_boot**: Size of the luggage boot (small, med, big)\n",
        "- **safety**: Estimated safety of the car (low, med, high)\n",
        "\n",
        "### Class Labels:\n",
        "- **unacc**: Unacceptable\n",
        "- **acc**: Acceptable\n",
        "- **good**: Good\n",
        "- **vgood**: Very Good\n",
        "\n",
        "To pass this section of the weekly challenge, uncomment/fill in code where necessary (marked with a 'TODO:' comment)."
      ]
    },
    {
      "cell_type": "code",
      "execution_count": 10,
      "metadata": {},
      "outputs": [],
      "source": [
        "# Common imports\n",
        "import numpy as np\n",
        "import pandas as pd\n",
        "from sklearn.preprocessing import OneHotEncoder, LabelEncoder\n",
        "from sklearn.model_selection import train_test_split\n",
        "from sklearn.ensemble import RandomForestClassifier\n",
        "# from sklearn.naive_bayes import GaussianNB\n",
        "from sklearn.metrics import precision_score, recall_score\n",
        "from sklearn.metrics import classification_report, confusion_matrix"
      ]
    },
    {
      "cell_type": "markdown",
      "metadata": {},
      "source": [
        "### 1. Load & Encode Car Dataset (1 point)\n",
        "\n",
        "**Goals** for `load_and_encode_car_data()`\n",
        "1. Reads car.csv.\n",
        "2. Encodes 6 features (buying, maint, doors, persons, lug_boot, safety).\n",
        "    e.g. one-hot or custom mapping.\n",
        "3. Maps class -> integer: unacc=0, acc=1, good=2, vgood=3.\n",
        "4. Returns (X, y) as arrays."
      ]
    },
    {
      "cell_type": "code",
      "execution_count": 11,
      "metadata": {
        "id": "Cm3MG7iySn15"
      },
      "outputs": [],
      "source": [
        "def load_and_encode_car_data():\n",
        "    \"\"\"\n",
        "    1) read 'car.csv'\n",
        "    2) encode the 6 features to numeric or one-hot\n",
        "    3) map class to {0,1,2,3}\n",
        "    4) return X, y\n",
        "    \"\"\"\n",
        "    df = pd.read_csv(\"car.csv\")\n",
        "\n",
        "    le = LabelEncoder()\n",
        "\n",
        "    for cat_var in ['buying', 'maint', 'lug_boot', 'doors', 'persons', 'safety']:\n",
        "        df[cat_var] = le.fit_transform(df[cat_var])  \n",
        "\n",
        "    # replacing values\n",
        "    df['class'].replace(['unacc', 'acc', 'good', 'vgood'],\n",
        "                    [0,1,2,3], inplace=True)\n",
        "\n",
        "\n",
        "    return df[['buying', 'maint', 'lug_boot', 'doors', 'persons', 'safety']], df['class']\n",
        "    \n",
        "    \n",
        "# demonstration\n",
        "# X, y = load_and_encode_car_data()\n",
        "# print(\"Shapes:\", X.shape, y.shape)"
      ]
    },
    {
      "cell_type": "markdown",
      "metadata": {
        "id": "hry_mfD2St36"
      },
      "source": [
        "### 2. Train Baseline Model (1 point)\n",
        "\n",
        "**Goals** for `train_baseline_model(X, y)`:\n",
        "1. Split data (test_size=0.2, random_state=42).\n",
        "2. Use a simple classifier (logistic or naive_bayes, etc.).\n",
        "3. Return (model, X_test, y_test, y_pred)."
      ]
    },
    {
      "cell_type": "code",
      "execution_count": 12,
      "metadata": {
        "id": "t6L9tk63SxuZ"
      },
      "outputs": [],
      "source": [
        "def train_classifier(X, y):\n",
        "    \"\"\"\n",
        "    1. split X,y\n",
        "    2. pick a classifier\n",
        "    3. fit & predict \n",
        "    4. return (model, X_test, y_test, y_pred)\n",
        "    \"\"\"\n",
        "    X_train, X_test, y_train, y_test = train_test_split(X, y, test_size=0.2, random_state=42)\n",
        "    clf = RandomForestClassifier()\n",
        "    clf.fit(X_train, y_train)\n",
        "    y_pred = clf.predict(X_test)\n",
        "    \n",
        "    return clf, X_test, y_test, y_pred"
      ]
    },
    {
      "cell_type": "markdown",
      "metadata": {},
      "source": [
        "### 3. Generate Confusion Matrix (1 point)\n",
        "\n",
        "**Goals**:\n",
        "1.  `generate_confmatrix(y_true, y_pred)` → returns an NxN confusion matrix array from scikit-learn"
      ]
    },
    {
      "cell_type": "code",
      "execution_count": 13,
      "metadata": {},
      "outputs": [],
      "source": [
        "def generate_confmatrix(y_true, y_pred):\n",
        "    \"\"\"\n",
        "    Return confusion_matrix array (sklearn).\n",
        "    \"\"\"\n",
        "    return confusion_matrix(y_true, y_pred)\n",
        "    "
      ]
    },
    {
      "cell_type": "markdown",
      "metadata": {
        "id": "ww-oRhCNS0_6"
      },
      "source": [
        "### 4. Compute F1 score (1 point)\n",
        "\n",
        "**Goals** for `manual_f1_for_class(y_true, y_pred, class_idx)`:\n",
        "1. Use scikit-learn to get precision, recall for that single class, e.g. by calling `precision_score(..., labels=[class_idx], average='macro')` or `average='binary'` approach.\n",
        "2. Then manually compute F1 using the formula (no direct scikit calls for F1).\n",
        "3. Return the F1 score.\n"
      ]
    },
    {
      "cell_type": "code",
      "execution_count": 14,
      "metadata": {},
      "outputs": [],
      "source": [
        "def manual_f1_for_class(y_true, y_pred, class_idx):\n",
        "    \"\"\"\n",
        "    1) use scikit to get precision, recall for 'class_idx' only\n",
        "    2) compute f1 score manually\n",
        "    return that float\n",
        "    \"\"\"\n",
        "    precision = precision_score(y_true, y_pred, average='macro', labels=[class_idx])\n",
        "    recall = recall_score(y_true, y_pred, labels=[class_idx], average='macro')\n",
        "    f1 = 2 * (precision * recall) / (precision + recall)\n",
        "    return f1"
      ]
    },
    {
      "cell_type": "markdown",
      "metadata": {
        "id": "FaVV4aDxYEUH"
      },
      "source": [
        "### 5. Generate Classification Report (1 point)\n",
        "\n",
        "**Goals**\n",
        "\n",
        "1. Generate a classification report for your trained model and return the report (string value)."
      ]
    },
    {
      "cell_type": "code",
      "execution_count": 15,
      "metadata": {},
      "outputs": [
        {
          "name": "stdout",
          "output_type": "stream",
          "text": [
            "Generate confmatrix:\n",
            "[[235   0   0   0]\n",
            " [  5  71   7   0]\n",
            " [  0   0  11   0]\n",
            " [  0   1   0  16]]\n",
            "F1 for class 0 manually: 0.9894736842105264\n",
            "              precision    recall  f1-score   support\n",
            "\n",
            "           0       0.98      1.00      0.99       235\n",
            "           1       0.99      0.86      0.92        83\n",
            "           2       0.61      1.00      0.76        11\n",
            "           3       1.00      0.94      0.97        17\n",
            "\n",
            "    accuracy                           0.96       346\n",
            "   macro avg       0.89      0.95      0.91       346\n",
            "weighted avg       0.97      0.96      0.96       346\n",
            "\n"
          ]
        },
        {
          "name": "stderr",
          "output_type": "stream",
          "text": [
            "/tmp/ipykernel_27177/3935847903.py:16: FutureWarning: A value is trying to be set on a copy of a DataFrame or Series through chained assignment using an inplace method.\n",
            "The behavior will change in pandas 3.0. This inplace method will never work because the intermediate object on which we are setting values always behaves as a copy.\n",
            "\n",
            "For example, when doing 'df[col].method(value, inplace=True)', try using 'df.method({col: value}, inplace=True)' or df[col] = df[col].method(value) instead, to perform the operation inplace on the original object.\n",
            "\n",
            "\n",
            "  df['class'].replace(['unacc', 'acc', 'good', 'vgood'],\n",
            "/tmp/ipykernel_27177/3935847903.py:16: FutureWarning: Downcasting behavior in `replace` is deprecated and will be removed in a future version. To retain the old behavior, explicitly call `result.infer_objects(copy=False)`. To opt-in to the future behavior, set `pd.set_option('future.no_silent_downcasting', True)`\n",
            "  df['class'].replace(['unacc', 'acc', 'good', 'vgood'],\n"
          ]
        }
      ],
      "source": [
        "def generate_classification_report(y_true, y_pred):\n",
        "    \"\"\"\n",
        "    calls sklearn's classification_report\n",
        "    returns it\n",
        "    \"\"\"\n",
        "    return classification_report(y_true, y_pred)\n",
        "\n",
        "# optional demonstration\n",
        "X, y = load_and_encode_car_data()\n",
        "model, X_te, y_te, y_pr = train_classifier(X,y)\n",
        "print(\"Generate confmatrix:\")\n",
        "cm = generate_confmatrix(y_te, y_pr)\n",
        "print(cm)\n",
        "f1class0 = manual_f1_for_class(y_te, y_pr, class_idx=0)\n",
        "print(\"F1 for class 0 manually:\", f1class0)\n",
        "rep = generate_classification_report(y_te, y_pr)\n",
        "print(rep)\n"
      ]
    },
    {
      "cell_type": "code",
      "execution_count": null,
      "metadata": {},
      "outputs": [],
      "source": []
    },
    {
      "cell_type": "code",
      "execution_count": null,
      "metadata": {},
      "outputs": [],
      "source": []
    }
  ],
  "metadata": {
    "colab": {
      "provenance": []
    },
    "kernelspec": {
      "display_name": "Python 3",
      "language": "python",
      "name": "python3"
    },
    "language_info": {
      "codemirror_mode": {
        "name": "ipython",
        "version": 3
      },
      "file_extension": ".py",
      "mimetype": "text/x-python",
      "name": "python",
      "nbconvert_exporter": "python",
      "pygments_lexer": "ipython3",
      "version": "3.12.1"
    }
  },
  "nbformat": 4,
  "nbformat_minor": 0
}
